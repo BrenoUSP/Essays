{
  "nbformat": 4,
  "nbformat_minor": 0,
  "metadata": {
    "colab": {
      "name": "Untitled0.ipynb",
      "provenance": [],
      "authorship_tag": "ABX9TyP/uT8jcJgL4LXU08g3imm2",
      "include_colab_link": true
    },
    "kernelspec": {
      "name": "python3",
      "display_name": "Python 3"
    }
  },
  "cells": [
    {
      "cell_type": "markdown",
      "metadata": {
        "id": "view-in-github",
        "colab_type": "text"
      },
      "source": [
        "<a href=\"https://colab.research.google.com/github/BrenoUSP/Essays/blob/master/Learning%20How%20to%20Learn/1%20-%20Reflecting%20on%20Learning.ipynb\" target=\"_parent\"><img src=\"https://colab.research.google.com/assets/colab-badge.svg\" alt=\"Open In Colab\"/></a>"
      ]
    },
    {
      "cell_type": "markdown",
      "metadata": {
        "id": "acJIRjZwBGtx",
        "colab_type": "text"
      },
      "source": [
        "# Reflecting on learning"
      ]
    },
    {
      "cell_type": "markdown",
      "metadata": {
        "id": "HpG4F6K5BQRv",
        "colab_type": "text"
      },
      "source": [
        "## 1) Current learning career and trajectory.\n",
        "\n",
        "I'm a computer science undergrad nowadays. I had many challenges about learning in my life, even to enter my course! I want to be even better about learning anything to tackle the hardest problems in diverse knowledge areas. I'm probably thinking in a Masters in areas like Bioinformatics or Biostatistics.\n"
      ]
    },
    {
      "cell_type": "markdown",
      "metadata": {
        "id": "6LpY_08gBQh0",
        "colab_type": "text"
      },
      "source": [
        "\n",
        "## 2) The learning aim that is of importance to me.\n",
        "\n",
        "The learning aim at the moment is probably for learning Data Science, definitely a challenging path on my field, but of course, I believe the learning aim of importance to me is all the subjects of my life that I want to master in some way."
      ]
    },
    {
      "cell_type": "markdown",
      "metadata": {
        "id": "fEGKOcG2BQpw",
        "colab_type": "text"
      },
      "source": [
        "## 3) Biggest mental challenges in achieving your learning aim.\n",
        "\n",
        "It would be probably my urge to do many things at once. I want to master a broad range of topics, but I need to step back in some way and choose only one subject to focus at a time. So, I believe this urge leads me to procrastinate in the sense I am studying something, and my brain says to do something I could find more pleasant to learn. e.g. I need to learn R programming, but I want to practice some instrument. I need to learn Linear Algebra, but I want to learn about Discrete Math."
      ]
    },
    {
      "cell_type": "markdown",
      "metadata": {
        "id": "jYB4BUNYBQxm",
        "colab_type": "text"
      },
      "source": [
        "## 4) Outline existing research or learning techniques that are relevant to your challenges.\n",
        "\n",
        "Pomodoro technique is, of course, an interesting one, that is mentioned in this course. I'd recommend using the app \"Forest\", this a good one and it makes a representation of a tree growing while the time passes. If you want to stop, you will cut the tree down :c (I'm using the app at this moment!)\n",
        "\n",
        "Take notes and organize them in a way you could easily understand what you meant. It seems simple but it could have its problems. e.g. If you are taking notes about a lecture, but don't even put an order on the notes. Or maybe you wrote in some way you could only understand the text at the moment. It's really important to take notes considering you will read it in the future, so write it in a way anyone could understand it :)\n",
        "\n",
        "Distributed practice is an excellent way to memorize anything. You probably won't remember everything you studied in a kind of \"studying marathon\" for an exam the day before it. Remember a set of things take its time. Our working memory is not good enough and if we want to remember a lot of things for an exam, we must practice every day until the day comes."
      ]
    },
    {
      "cell_type": "markdown",
      "metadata": {
        "id": "3mpxgCPcBi5c",
        "colab_type": "text"
      },
      "source": [
        "## 5) Applying knowledge of research findings or learning techniques to help me overcome my challenges.\n",
        "\n",
        "I believe learning techniques like I mentioned will be extremely important to progress on my Computer Science graduation and even in any subject I want to master. Pomodoro will be a way to create a kind of focus in a specific action I want to make, so problems like I said, about wanting to do many things at once, could be practically solved!\n",
        "Taking notes in a good way is essential if we want, in the future, to read them to study for an exam. Can you imagine study a lot of numbers without any explanation on them?\n",
        "And of course, practice every day until perfection! In a paced way, in advance with no stress at all. \n",
        "So with these techniques, I believe learning will be even more even fun and less stressful! "
      ]
    }
  ]
}