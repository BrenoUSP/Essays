{
  "nbformat": 4,
  "nbformat_minor": 0,
  "metadata": {
    "colab": {
      "name": "Untitled1.ipynb",
      "provenance": [],
      "authorship_tag": "ABX9TyN6NOFExtuZ2pO7QcuaCn3+",
      "include_colab_link": true
    },
    "kernelspec": {
      "name": "python3",
      "display_name": "Python 3"
    }
  },
  "cells": [
    {
      "cell_type": "markdown",
      "metadata": {
        "id": "view-in-github",
        "colab_type": "text"
      },
      "source": [
        "<a href=\"https://colab.research.google.com/github/BrenoUSP/Essays/blob/master/Learning%20How%20to%20Learn/2%20-%20How%20to%20learn%20anything%20you%20want.ipynb\" target=\"_parent\"><img src=\"https://colab.research.google.com/assets/colab-badge.svg\" alt=\"Open In Colab\"/></a>"
      ]
    },
    {
      "cell_type": "markdown",
      "metadata": {
        "id": "I3rQjL_cCVbg",
        "colab_type": "text"
      },
      "source": [
        "# How to learn anything you want\n",
        "\n",
        "I remember a teacher once saying \"Learning is cool, the problem is to do the studying to learn it\". I found it this idea to be so important to show how anyone can learn anything they want, even if each one of us has its difficulties on specifics subjects. How to do this, then? Of course, some people learn way too fast about practically anything, but many of them are using techniques to achieve this. \n",
        "\n",
        "Procrastination is one of the major problems with learning. It's like an addiction. Understanding that this only shows up in situations we are finding a task way too demanding or boring to us is key. Our brain tells us to do something more to our tastes, that we can enjoy fast to forget the strange feeling of discomfort: a short term reward. Ok, so there is procrastination, how can we solve it?\n",
        "\n",
        "Well, next I'll show some techniques that can help you with the process of learning anything and probably attenuate procrastination, but first I must add that maybe some of these methods could be not so effective for you. So, write them down and analyze the techniques that work for you! :)"
      ]
    },
    {
      "cell_type": "markdown",
      "metadata": {
        "id": "r7USfVASCgSp",
        "colab_type": "text"
      },
      "source": [
        "## 1) The techniques\n",
        "\n",
        "So, to the techniques!\n",
        "\n",
        "### Pomodoro [1](https://www.forbes.com/sites/bryancollinseurope/2020/03/03/the-pomodoro-technique/#5b3835ae3985)\n",
        "\n",
        ">Pomodoro must be one of the most famous techniques used to do all kinds of tasks. With Pomodoro, you allocate some minutes (usually 25 min) to focus on doing a task. Soon after you can do a little break of let's say, five minutes. And next, you go back to the task.\n",
        ">\n",
        ">Some people like to do a kind of cycle. For example, you can do what I said 4 times and you can take a longer break!\n",
        ">\n",
        ">And maybe you have a task you like so much, you don't even need a timer like a Pomodoro. But when it comes to more \"boring\" tasks, it's good to apply Pomodoro. I'd recommend apps like \"Forest\" [2](https://www.forestapp.cc/) which gives you the timer, but the idea is to create trees each Pomodoro session. If you want to stop, you will stop the tree from growing :c\n",
        "\n",
        "### Chunking [3](https://thepeakperformancecenter.com/educational-learning/thinking/chunking/chunking-as-a-learning-strategy/)\n",
        "\n",
        ">It can be really hard to memorize an entire chapter about a subject like, for example, math. But could you maybe, divide the chapter into many parts?\n",
        ">\n",
        ">That's the idea of chunking. Dividing the chapter you not only create differents parts visually, but your brain will memorize the parts as chunks, which you give a better ability to remember the entire chapter, recalling each chunk!\n",
        "\n",
        "### Deliberate learning [4](https://www.lifehack.org/851928/guide-to-deliberate-practice)\n",
        "\n",
        ">It's important to plan for an exam. Until there, you can study little by little, maybe 30 minutes every day? If you study this way for like 2 months, you'd have studied 30 hours total! Better than making a \"sprint\" the day before, right? Practicing every day really pays off.\n",
        "\n",
        "### Exercise [5](https://www.additudemag.com/exercise-learning-adhd-brain/)\n",
        "\n",
        ">\"Mens sana in corpore sano\" or \"a healthy mind in a healthy body\" as the Greek once said. And they were really right! It's practically a consensus in the medical/public health community the importance of exercising for good mental health. Try to exercise at least 1h30min or even more per week, as WHO recommends.\n",
        "\n",
        "### Sleep [6](https://www.medicalnewstoday.com/articles/sleep-visual-learning)\n",
        "\n",
        ">Sleep, like exercising, is an important way to maintain a good mental health. And for learning, it is crucial as we know the brain continues to fixate all kinds of subjects you studied in the day!\n",
        "\n",
        "### Test yourself!\n",
        "\n",
        ">Well, it's time to test yourself! You don't know if you really know something if don't do a kind of test. Try to resolve many kinds of exercises for the subject you are studying, including the hardest ones!"
      ]
    },
    {
      "cell_type": "markdown",
      "metadata": {
        "id": "6BNjjKfKCmFP",
        "colab_type": "text"
      },
      "source": [
        "## 2) The environment [7](https://www.huffpost.com/entry/7-tips-to-organize-your-work-space-and-stay-productive_b_9792172)\n",
        "\n",
        "The environment you are studying something can be as important as the techniques you are using.\n",
        "\n",
        "### Organized place\n",
        "\n",
        ">It's important to have a good organized study room! How organized it is can really impact the performance of your learning as some research indicates.\n",
        "\n",
        "### Quiet place\n",
        "\n",
        ">Try to avoid sounds that can distract you from studying. Use headphones that can isolate sounds better.\n",
        "\n",
        "### Other easy distractions\n",
        "\n",
        ">Turn off the wi-fi from your cellphone and keep it far away from you. This goes for any kind of distraction like musical instruments, videogames, etc."
      ]
    },
    {
      "cell_type": "markdown",
      "metadata": {
        "id": "dW_f1a3fCsCI",
        "colab_type": "text"
      },
      "source": [
        "## 3) The routine\n",
        "\n",
        "A routine is very important to avoid problems of procrastination. Actually, our brains like routines so much and can learn fast about them if you give them the time [8](https://www.psychologytoday.com/us/blog/lets-connect/201108/why-we-are-creatures-routine). There are many ways you can create routines to do your studying and learn hard things!\n",
        "\n",
        "### Write your tasks down\n",
        "\n",
        ">Well, plan ahead! What are you trying to do today, and tomorrow, and the day after? It's really demanding for our brains to recalling the tasks every time, so give your brain a break! Write some tasks down!\n",
        "\n",
        "### Time blocking [9](https://simple-pdh.com/time-blocking-for-lifelong-learning/)\n",
        "\n",
        ">Together with writing the tasks, you could do time blocking, which is allocating specific blocks of time to do these tasks! Research indicates that an effective way to do this planning is the night before the day you are planning. I'd recommend apps like Google Calendar (for time blocking) with Todoist (for creating tasks)."
      ]
    },
    {
      "cell_type": "markdown",
      "metadata": {
        "id": "uYjLXfh5CvD9",
        "colab_type": "text"
      },
      "source": [
        "## 4) Summing it up!\n",
        "\n",
        "There are many and many techniques to create an effective way to learn anything. As my teacher said, learning is fun, studying is boring, but with all these things you could really find some fun in the process of studying! \n",
        "\n",
        "Test these techniques and see which of them are the best for you. It could be different for anyone!\n",
        "\n",
        "Don't forget to take a break! \"If you don't take a break, the break takes itself.\" - Some random person on the Internet."
      ]
    },
    {
      "cell_type": "markdown",
      "metadata": {
        "id": "GuFHzoD7CzEP",
        "colab_type": "text"
      },
      "source": [
        "## References\n",
        "\n",
        "[1] The Pomodoro Technique Explained: <https://www.forbes.com/sites/bryancollinseurope/2020/03/03/the-pomodoro-technique/#5b3835ae3985>\n",
        "\n",
        "[2] Forest App: https://www.forestapp.cc/\n",
        "\n",
        "[3] Chunking Strategy: https://thepeakperformancecenter.com/educational-learning/thinking/chunking/chunking-as-a-learning-strategy/\n",
        "\n",
        "[4] Deliberate practice: https://www.lifehack.org/851928/guide-to-deliberate-practice\n",
        "\n",
        "[5] Build Your Muscles, Build Your Brain: https://www.additudemag.com/exercise-learning-adhd-brain/\n",
        "\n",
        "[6] Study reveals how sleep boosts learning: https://www.medicalnewstoday.com/articles/sleep-visual-learning\n",
        "\n",
        "[7] Organizing your work space: https://www.huffpost.com/entry/7-tips-to-organize-your-work-space-and-stay-productive_b_9792172\n",
        "\n",
        "[8] Why We are Creatures of Routine: https://www.psychologytoday.com/us/blog/lets-connect/201108/why-we-are-creatures-routine\n",
        "\n",
        "[9] Time Blocking for Lifelong Learning: https://simple-pdh.com/time-blocking-for-lifelong-learning/"
      ]
    }
  ]
}