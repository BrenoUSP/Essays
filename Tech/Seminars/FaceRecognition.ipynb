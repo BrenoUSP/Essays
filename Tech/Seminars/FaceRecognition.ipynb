{
  "nbformat": 4,
  "nbformat_minor": 0,
  "metadata": {
    "colab": {
      "name": "FaceRecognition.ipynb",
      "provenance": [],
      "authorship_tag": "ABX9TyOPHk2DqLwv4XXAkfD9x+qh",
      "include_colab_link": true
    },
    "kernelspec": {
      "name": "python3",
      "display_name": "Python 3"
    }
  },
  "cells": [
    {
      "cell_type": "markdown",
      "metadata": {
        "id": "view-in-github",
        "colab_type": "text"
      },
      "source": [
        "<a href=\"https://colab.research.google.com/github/BrenoUSP/Essays/blob/master/Tech/Seminars/FaceRecognition.ipynb\" target=\"_parent\"><img src=\"https://colab.research.google.com/assets/colab-badge.svg\" alt=\"Open In Colab\"/></a>"
      ]
    },
    {
      "cell_type": "markdown",
      "metadata": {
        "id": "p-ieVlg-LkJz",
        "colab_type": "text"
      },
      "source": [
        "# Facial recognition and digital rights\n",
        "\n",
        "*Seminar on 09-09-2020 by Rafael Zanatta ([Data Privacy](https://www.dataprivacybr.org/)), one of the people responsible for the production of [Marco Civil da Internet](http://pt.wikipedia.org/wiki/Marco_Civil_da_Internet) and [Lei Geral de Proteção de Dados Pessoais (LGPD)](http://pt.wikipedia.org/wiki/Lei_Geral_de_Prote%C3%A7%C3%A3o_de_Dados_Pessoais). More about the later [here](http://www.planalto.gov.br/ccivil_03/_ato2015-2018/2018/Lei/L13709.htm). Zanatta also participated on [this podcast](https://outraspalavras.net/podcasts/podcast-reconhecimento-facial-a-nova-ameaca/) talking about the subject.*\n"
      ]
    },
    {
      "cell_type": "markdown",
      "metadata": {
        "id": "AQfsW_0ZX5oe",
        "colab_type": "text"
      },
      "source": [
        "\n",
        "\n",
        "---\n",
        "\n"
      ]
    },
    {
      "cell_type": "markdown",
      "metadata": {
        "id": "OlB8NU39PpQX",
        "colab_type": "text"
      },
      "source": [
        "## Research\n",
        "\n",
        "The organization Data Privacy with the [Instituto Igarapé](https://igarape.org.br/) made [research](https://igarape.org.br/wp-content/uploads/2020/06/2020-06-09-Regula%C3%A7%C3%A3o-do-reconhecimento-facial-no-setor-p%C3%BAblico.pdf) analyzing the situation of facial recognition with international case studies and considering the Brazilian setting."
      ]
    },
    {
      "cell_type": "markdown",
      "metadata": {
        "id": "BuiY3keWTjS3",
        "colab_type": "text"
      },
      "source": [
        "## Banning facial recognition\n",
        "\n",
        "Entities like [EPIC](https://epic.org/privacy/facerecognition/) are trying to ban facial recognition systems, considering the unforeseen consequences dealing with injustices and bias (especially dealing with people from minorities like people of color and women).\n",
        "\n",
        "Companies like [IBM](https://www.forbes.com/sites/steveandriole/2020/06/10/ibm-kills-facial-recognition-but-surveillance-continues/#7a78fe2445b8) and [Amazon](https://www.pbs.org/newshour/nation/amazon-bans-police-use-of-face-recognition-technology-for-a-year) are trying to discourage the use of facial recognition.\n",
        "\n",
        "More about other entities trying to [ban the technology](https://www.banfacialrecognition.com/)."
      ]
    },
    {
      "cell_type": "markdown",
      "metadata": {
        "id": "MXQVw_S4LtkM",
        "colab_type": "text"
      },
      "source": [
        "## Case study: Metro of São Paulo\n",
        "\n",
        "ViaQuatro, responsible for administering the yellow line of the metro network, was [selling video recording of commuters](https://theintercept.com/2018/08/31/metro-cameras-acao-civil/) to adapt to better ads depending on their humor. IDEC, soon after the approvation of LGPD in 2018, [filed a lawsuit](https://irisbh.com.br/wp-content/uploads/2019/09/Acao-Civil-Publica-IDEC-vs.-ViaQuatro-Parecer-do-IRIS-1.pdf) against ViaQuatro.\n",
        "\n",
        "Also, Metro of São Paulo doesn't provide information about how is [using data about face recognition](https://politica.estadao.com.br/blogs/fausto-macedo/reconhecimento-facial-no-metro-pode-ter-consequencias-desastrosas-alertam-advogados/)."
      ]
    },
    {
      "cell_type": "markdown",
      "metadata": {
        "id": "qnGKEbMNU8Zw",
        "colab_type": "text"
      },
      "source": [
        "## Case study: Police Face Recognition in America\n",
        "\n",
        "A [study](https://www.perpetuallineup.org/) about unregulated Police Face Recognition in America."
      ]
    },
    {
      "cell_type": "markdown",
      "metadata": {
        "id": "OL6h6fWHVPTt",
        "colab_type": "text"
      },
      "source": [
        "## Case study: Wrongfully arrested two times\n",
        "\n",
        "Jamerson, 33 years old, was [wrongfully arrested](https://extra.globo.com/casos-de-policia/justica-arquiva-processo-contra-vidraceiro-preso-duas-vezes-por-engano-24324239.html) two times."
      ]
    },
    {
      "cell_type": "markdown",
      "metadata": {
        "id": "938cgBuwV_Ta",
        "colab_type": "text"
      },
      "source": [
        "## Case study: Clearview and destruction of privacy\n",
        "\n",
        "[Clearview](https://www.nytimes.com/2020/01/18/technology/clearview-privacy-facial-recognition.html) has a system of facial recognition even better than the FBI's."
      ]
    },
    {
      "cell_type": "markdown",
      "metadata": {
        "id": "3mIbXizRX4pX",
        "colab_type": "text"
      },
      "source": [
        "## Case study: Lawsuit against Hering\n",
        "\n",
        "[Senacon fines Hering](https://olhardigital.com.br/noticia/senacon-multa-hering-em-r-58-mil-por-uso-indevido-de-reconhecimento-facial/105951) on R$ 58.000 for misuse of facial recognition.\n",
        "\n"
      ]
    },
    {
      "cell_type": "markdown",
      "metadata": {
        "id": "e1MLiY7zWm3l",
        "colab_type": "text"
      },
      "source": [
        "## A philosopher analyzing facial recognition analysis\n",
        "\n",
        "Evan Selinger [discusses facial recognition](https://www.nytimes.com/2019/10/17/opinion/facial-recognition-ban.html) talking about how the risks outweigh the benefits."
      ]
    }
  ]
}