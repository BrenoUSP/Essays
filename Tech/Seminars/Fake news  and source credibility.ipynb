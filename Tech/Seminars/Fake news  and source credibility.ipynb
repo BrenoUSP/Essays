{
  "nbformat": 4,
  "nbformat_minor": 0,
  "metadata": {
    "colab": {
      "name": "Fake news and source credibility.ipynb",
      "provenance": [],
      "authorship_tag": "ABX9TyPTW6zOTyzYssLU3doO/RjG",
      "include_colab_link": true
    },
    "kernelspec": {
      "name": "python3",
      "display_name": "Python 3"
    }
  },
  "cells": [
    {
      "cell_type": "markdown",
      "metadata": {
        "id": "view-in-github",
        "colab_type": "text"
      },
      "source": [
        "<a href=\"https://colab.research.google.com/github/BrenoUSP/Essays/blob/master/Tech/Seminars/Fake%20news%20%20and%20source%20credibility.ipynb\" target=\"_parent\"><img src=\"https://colab.research.google.com/assets/colab-badge.svg\" alt=\"Open In Colab\"/></a>"
      ]
    },
    {
      "cell_type": "markdown",
      "metadata": {
        "id": "SZpEoIrPVwgW",
        "colab_type": "text"
      },
      "source": [
        "# Fake news and source credibility\n",
        "\n",
        "*An essay about a seminar talking the \"Fake news\" subject. The speaker is Leandro Tessler, researcher at Unicamp - IFGW.* **This a pre essay that will be updated with more content of the seminar.**"
      ]
    },
    {
      "cell_type": "markdown",
      "metadata": {
        "id": "o1Z3qYYhWZ4M",
        "colab_type": "text"
      },
      "source": [
        "\n",
        "\n",
        "---\n",
        "\n"
      ]
    },
    {
      "cell_type": "markdown",
      "metadata": {
        "id": "OxCykc0uWzq5",
        "colab_type": "text"
      },
      "source": [
        "## Internet\n",
        "\n",
        "Internet as a major revolution in spreading knowledge and impactful as Gutenberg's printing press."
      ]
    },
    {
      "cell_type": "markdown",
      "metadata": {
        "id": "PWOXBPQzXxca",
        "colab_type": "text"
      },
      "source": [
        "Major part of Brazilians get news from social media (87%)."
      ]
    },
    {
      "cell_type": "markdown",
      "metadata": {
        "id": "X8zWX70rYA3u",
        "colab_type": "text"
      },
      "source": [
        "## Fake news structure\n",
        "\n",
        "* Conspiration\n",
        "* Authority argument\n",
        "* Ignore information quality"
      ]
    },
    {
      "cell_type": "markdown",
      "metadata": {
        "id": "0A61r7_gYvOl",
        "colab_type": "text"
      },
      "source": [
        "## Hierarchy of Scientific Evidence\n",
        "\n",
        "* Pyramid showing the hierarchy;\n",
        "* Meta-analysis first and etc."
      ]
    },
    {
      "cell_type": "markdown",
      "metadata": {
        "id": "S2gkoSiUY4hE",
        "colab_type": "text"
      },
      "source": [
        "## Study case: Chloroquine\n",
        "\n",
        "French researchers published a  preliminary study. Low quality.\n",
        "A pre-print became an official article.\n"
      ]
    }
  ]
}