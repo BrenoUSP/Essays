{
  "nbformat": 4,
  "nbformat_minor": 0,
  "metadata": {
    "colab": {
      "name": "Tech Racism.ipynb",
      "provenance": [],
      "authorship_tag": "ABX9TyO8IbGzLCfLeJ76DNoKJ/1L",
      "include_colab_link": true
    },
    "kernelspec": {
      "name": "python3",
      "display_name": "Python 3"
    }
  },
  "cells": [
    {
      "cell_type": "markdown",
      "metadata": {
        "id": "view-in-github",
        "colab_type": "text"
      },
      "source": [
        "<a href=\"https://colab.research.google.com/github/brenoslivio/Essays/blob/master/Tech/Seminars/Tech%20Racism.ipynb\" target=\"_parent\"><img src=\"https://colab.research.google.com/assets/colab-badge.svg\" alt=\"Open In Colab\"/></a>"
      ]
    },
    {
      "cell_type": "markdown",
      "metadata": {
        "id": "qifnxFRSU8ij"
      },
      "source": [
        "# Is Tech Racist?"
      ]
    },
    {
      "cell_type": "markdown",
      "metadata": {
        "id": "AmfJNmkeVCgx"
      },
      "source": [
        "*This was a lecture given at ICMC - USP on the [Computer Science week](https://semcomp.icmc.usp.br/), 29th September, 2020. The lecturer was Ramon Vilarino, working at [Serasa Experian](https://www.serasaexperian.com.br/) (a company who uses a lot of data science, with the biggest data available on Brazil). Ramon used much of the reflections by Ruha Benjamin with the book \"[Race After Technology: Abolitionist Tools for the New Jim Code](https://www.amazon.com/Race-After-Technology-Abolitionist-Tools/dp/1509526404)\".* https://www.youtube.com/watch?v=BRglqA8e1mo"
      ]
    },
    {
      "cell_type": "markdown",
      "metadata": {
        "id": "vjUMMem-kLd9"
      },
      "source": [
        "## Introduction"
      ]
    },
    {
      "cell_type": "markdown",
      "metadata": {
        "id": "80JvX2IKlM2h"
      },
      "source": [
        "It was given examples of structural racism happening in the industry. How the book's author perceives racism as a whole in the tech industry describing \"The New Jim Code\", referring to the old [Jim Crow laws](https://en.wikipedia.org/wiki/Jim_Crow_laws), but with insertion on the tech world."
      ]
    },
    {
      "cell_type": "markdown",
      "metadata": {
        "id": "espH6XfQYtCn"
      },
      "source": [
        "## Projected Injustice"
      ]
    },
    {
      "cell_type": "markdown",
      "metadata": {
        "id": "m3B915T7YtXq"
      },
      "source": [
        "Projected injustice reffers to the tech that explicitly amplify social discrepancies. At the same they declare themselves as \"neutral\" and objectives, these tech work to redefine how the injustice is perceived, codifying (and hiding) multiple axis of domination."
      ]
    },
    {
      "cell_type": "markdown",
      "metadata": {
        "id": "sy5FIDSgYtl5"
      },
      "source": [
        ""
      ]
    }
  ]
}