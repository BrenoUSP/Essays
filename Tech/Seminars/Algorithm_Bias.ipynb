{
  "nbformat": 4,
  "nbformat_minor": 0,
  "metadata": {
    "colab": {
      "name": "Algorithm Bias.ipynb",
      "provenance": [],
      "authorship_tag": "ABX9TyMgoTVcD/blU6ebQ18Yh16J",
      "include_colab_link": true
    },
    "kernelspec": {
      "name": "python3",
      "display_name": "Python 3"
    }
  },
  "cells": [
    {
      "cell_type": "markdown",
      "metadata": {
        "id": "view-in-github",
        "colab_type": "text"
      },
      "source": [
        "<a href=\"https://colab.research.google.com/github/brenoslivio/Essays/blob/master/Tech/Seminars/Algorithm_Bias.ipynb\" target=\"_parent\"><img src=\"https://colab.research.google.com/assets/colab-badge.svg\" alt=\"Open In Colab\"/></a>"
      ]
    },
    {
      "cell_type": "markdown",
      "metadata": {
        "id": "i5Wcui1bqaFW",
        "colab_type": "text"
      },
      "source": [
        "# Algorithm bias: society impact, perspectives and solutions"
      ]
    },
    {
      "cell_type": "markdown",
      "metadata": {
        "id": "lKX-15Knqdsm",
        "colab_type": "text"
      },
      "source": [
        "The following essay is about a workshop given by [NIC.br](https://nic.br/) for the [Fórum da Internet no Brasil](https://forumdainternet.cgi.br/) on September 22nd, 2020. Not all lecturers are on this essay, only the ones with more dense information about the subject."
      ]
    },
    {
      "cell_type": "markdown",
      "metadata": {
        "id": "tAqSk5bbvemi",
        "colab_type": "text"
      },
      "source": [
        "\n",
        "\n",
        "---\n",
        "\n"
      ]
    },
    {
      "cell_type": "markdown",
      "metadata": {
        "id": "7Hsi0Fkyqd6Q",
        "colab_type": "text"
      },
      "source": [
        "## Algorithm bias exists ([Leonardo Parentoni](https://www.researchgate.net/profile/Leonardo_Parentoni2) - [DTIBR](www.dtibr.com) and [UFMG](ufmg.br))"
      ]
    },
    {
      "cell_type": "markdown",
      "metadata": {
        "id": "J2ZXJHOBroW0",
        "colab_type": "text"
      },
      "source": [
        "Since the beginning of the internet, it was already discussed how a kind of bias by the algorithms would exist in the future. Algorithm discrimination is a subject discussed broadly by entities as [Council of Europe](https://rm.coe.int/discrimination-artificial-intelligence-and-algorithmic-decision-making/1680925d73)."
      ]
    },
    {
      "cell_type": "markdown",
      "metadata": {
        "id": "6S5Vc7Desz2H",
        "colab_type": "text"
      },
      "source": [
        "On the origins of the internet design, it was not thought of perceiving something as algorithm bias. "
      ]
    },
    {
      "cell_type": "markdown",
      "metadata": {
        "id": "R8EClLFGtbAt",
        "colab_type": "text"
      },
      "source": [
        "\n",
        "\n",
        "> [The Design Philosophy of the DARPA Internet Protocols](http://ccr.sigcomm.org/archive/1995/jan95/ccr-9501-clark.pdf)\n",
        ">\n",
        "> 1) Multiplexed networks interconnection \n",
        "> \n",
        "> 2) Resilience (War strayegy)\n",
        ">\n",
        "> 3) Setup for multiple devices\n",
        ">\n",
        "> 4) Reasonable cost implementation\n",
        ">\n",
        "> (...)\n",
        "> \n",
        "> 7) Accountability\n",
        "\n",
        "\n",
        "\n",
        "\n",
        "\n"
      ]
    },
    {
      "cell_type": "markdown",
      "metadata": {
        "id": "8XZAE-xpu6Sx",
        "colab_type": "text"
      },
      "source": [
        "Conclusion: Avoiding discriminations was not one of the major plans for the construction of the Internet as we know it."
      ]
    },
    {
      "cell_type": "markdown",
      "metadata": {
        "id": "oAE1xh8UvmSM",
        "colab_type": "text"
      },
      "source": [
        "## Don't blame the algorithms, blame the humans ([Rômulo Valentini](http://professorromulovalentini.org/) - TRT)\n"
      ]
    },
    {
      "cell_type": "markdown",
      "metadata": {
        "id": "iNMI9hpawQMP",
        "colab_type": "text"
      },
      "source": [
        "### The Industry 4.0"
      ]
    },
    {
      "cell_type": "markdown",
      "metadata": {
        "id": "GdiXm4Hvwt1c",
        "colab_type": "text"
      },
      "source": [
        "The consolidated Internet became part of the production means of the capitalist system on the 21st century. We are codifying the work, once only possible by humans to do. With the capitalist system logic, it is enough to a computer to be cost effective than to exactly replicate a human."
      ]
    },
    {
      "cell_type": "markdown",
      "metadata": {
        "id": "mXS816Ayxfhe",
        "colab_type": "text"
      },
      "source": [
        "### The human bias"
      ]
    },
    {
      "cell_type": "markdown",
      "metadata": {
        "id": "nQyOYWslx-ZR",
        "colab_type": "text"
      },
      "source": [
        "The bias is usually human. It's a cognitive failure on the reasoning formation."
      ]
    },
    {
      "cell_type": "markdown",
      "metadata": {
        "id": "bbwsg5vUzSxY",
        "colab_type": "text"
      },
      "source": [
        "##### Confirmation bias"
      ]
    },
    {
      "cell_type": "markdown",
      "metadata": {
        "id": "984hW5z6z6YI",
        "colab_type": "text"
      },
      "source": [
        "The tendency to search for information that validate your beliefs."
      ]
    },
    {
      "cell_type": "markdown",
      "metadata": {
        "id": "s0amhvb6zS4K",
        "colab_type": "text"
      },
      "source": [
        "##### Attention bias "
      ]
    },
    {
      "cell_type": "markdown",
      "metadata": {
        "id": "xxmHi_M9z62K",
        "colab_type": "text"
      },
      "source": [
        "The tendency to pay attention to dominant sensory or emotional stimulus in your environment, and neglect relevant data. "
      ]
    },
    {
      "cell_type": "markdown",
      "metadata": {
        "id": "AQ5IQdit0zBh",
        "colab_type": "text"
      },
      "source": [
        "##### Other biases"
      ]
    },
    {
      "cell_type": "markdown",
      "metadata": {
        "id": "bLzCdod105ln",
        "colab_type": "text"
      },
      "source": [
        "Adhesion effect, disponibility heuristic, expectation bias and so on."
      ]
    },
    {
      "cell_type": "markdown",
      "metadata": {
        "id": "DJuEWxHh2Vpk",
        "colab_type": "text"
      },
      "source": [
        "### The Dunning-Kruger Effect"
      ]
    },
    {
      "cell_type": "markdown",
      "metadata": {
        "id": "xER-23Oa2gIq",
        "colab_type": "text"
      },
      "source": [
        "![title](https://assets.amuniversal.com/7fef9290e81a012feea0001dd8b71c47)"
      ]
    },
    {
      "cell_type": "markdown",
      "metadata": {
        "id": "AAlfUKfZ2ueT",
        "colab_type": "text"
      },
      "source": [
        "We tend to form an opinion too fast. It's not hard to develop an algorithm solution for a problem quite fast, but it's not hard as thinking beyond the problem."
      ]
    },
    {
      "cell_type": "markdown",
      "metadata": {
        "id": "q-AUE6Gc3d8p",
        "colab_type": "text"
      },
      "source": [
        "### Machine Bias"
      ]
    },
    {
      "cell_type": "markdown",
      "metadata": {
        "id": "ZAiMhExx3jSq",
        "colab_type": "text"
      },
      "source": [
        "Machine bias comes in three different aspects:"
      ]
    },
    {
      "cell_type": "markdown",
      "metadata": {
        "id": "1ZURT-lO3ry4",
        "colab_type": "text"
      },
      "source": [
        "\n",
        "\n",
        "> 1) Error on the problem definition (requirements definition)\n",
        ">\n",
        "> 2) Error on the data collection (input)\n",
        ">\n",
        "> 3) Error on the data treatment (structuring)\n",
        "\n"
      ]
    },
    {
      "cell_type": "markdown",
      "metadata": {
        "id": "PJvtVdMV4Ogp",
        "colab_type": "text"
      },
      "source": [
        "Even if the bias was detected on the output, it's really hard when he was introduced and how to remove it from the model ([Black Box problem](https://en.wikipedia.org/wiki/Black_box))"
      ]
    },
    {
      "cell_type": "markdown",
      "metadata": {
        "id": "b27hmobM4oJQ",
        "colab_type": "text"
      },
      "source": [
        "### How to correct machine bias?"
      ]
    },
    {
      "cell_type": "markdown",
      "metadata": {
        "id": "xK-8F3TU4twM",
        "colab_type": "text"
      },
      "source": [
        "> 1) Defining the concept of \"fair decision\":\n",
        ">\n",
        "> In computer science \"fair\" is associated with mathematics (e.g. [MIT Moral Machine](https://www.moralmachine.net/)).\n",
        ">\n",
        "> 2) Eliminate the social context restriction, or \"programmer bias\": \n",
        ">\n",
        "> Work with multidisciplinary development teams to avoid problems of bias \n",
        "> coming from the programmer.\n",
        ">\n",
        "> 3) Avoid and discard imperfect learning processes:\n",
        ">\n",
        "> Sometimes performance tests for models are used as real input."
      ]
    }
  ]
}